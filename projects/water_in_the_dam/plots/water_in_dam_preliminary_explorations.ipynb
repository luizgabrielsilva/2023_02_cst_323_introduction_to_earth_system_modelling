{
 "cells": [
  {
   "cell_type": "markdown",
   "id": "7696f126",
   "metadata": {},
   "source": [
    "# Water in the Dam - Exploração preliminiar\n"
   ]
  },
  {
   "cell_type": "code",
   "execution_count": 1,
   "id": "bd4ce231",
   "metadata": {},
   "outputs": [],
   "source": [
    "import numpy as np\n",
    "from matplotlib import pyplot as plt\n",
    "import pandas as pd\n",
    "\n",
    "import pathlib"
   ]
  },
  {
   "cell_type": "markdown",
   "id": "bf5d10de",
   "metadata": {},
   "source": [
    "## Funções"
   ]
  },
  {
   "cell_type": "code",
   "execution_count": null,
   "id": "eee58176",
   "metadata": {},
   "outputs": [],
   "source": [
    "# Computação do consumo anual por habitante\n",
    "\n",
    "def c_year(c_0, alpha, year):\n",
    "    return c_0 * np.power((1 + alpha), (year - 1950))\n",
    "\n",
    "\n",
    "# Computação das cotas inferiores (Eq. 7) e superiores (Eq. 9)\n",
    "\n",
    "def comput_threshold_inf_year(dum_capacity, n, rate, c_ref, alpha, beta):\n",
    "\n",
    "    return np.log(dum_capacity * rate / (alpha * beta * n * c_ref) + 1) / np.log(1 + rate) + 1950\n",
    "\n",
    "\n",
    "def comput_threshold_sup_year(dum_capacity, rain, n, rate, c_ref, alpha, beta):\n",
    "\n",
    "    return np.log((dum_capacity + rain) / (alpha * beta * n * c_ref)) / np.log(1 + rate) + 1950"
   ]
  },
  {
   "cell_type": "code",
   "execution_count": null,
   "id": "bd5fb1b4",
   "metadata": {},
   "outputs": [],
   "source": []
  },
  {
   "cell_type": "code",
   "execution_count": null,
   "id": "aa2526ea",
   "metadata": {},
   "outputs": [],
   "source": [
    "c_0 = c_year(10, 0.05, 1950)\n",
    "alpha= 0.05\n",
    "years = np.linspace(start=1950, stop=2050, num=51, dtype=int)"
   ]
  },
  {
   "cell_type": "code",
   "execution_count": null,
   "id": "fa83c19d",
   "metadata": {},
   "outputs": [],
   "source": [
    "N = 1e5\n",
    "beta = 1e2\n",
    "\n",
    "C = N * beta * c(c_ref, rate, years)\n",
    "C_05 = N * beta * c(c_ref, rate / 2, years)\n",
    "C_nb = N * 8e1 * c(c_ref, rate, years)"
   ]
  },
  {
   "cell_type": "code",
   "execution_count": null,
   "id": "3948e8e3",
   "metadata": {},
   "outputs": [],
   "source": [
    "fig, ax = plt.subplots(nrows=1, ncols=1, figsize=(5,5))\n",
    "\n",
    "ax.plot(years, C, \"o\", markerfacecolor=\"none\", color=\"blue\", label=\"Normal conditions\")\n",
    "ax.plot(years, C_05, \"o\", markerfacecolor=\"none\", color=\"orchid\", label=\"Rate Growth = 0.025\")\n",
    "ax.plot(years, C_nb, \"o\", markerfacecolor=\"none\", color=\"violet\", label=\"Efficiency = 80\")\n",
    "\n",
    "ax.axhline(y=5e9, color=\"red\", label=\"Dum Capacity\")\n",
    "ax.axhline(y=(5e9 + 1.5e9 + 2e9) / 12, linestyle=\"dashed\", color=\"red\", label=\"Max capicity\")\n",
    "\n",
    "\n",
    "ax.legend()\n",
    "\n",
    "plt.show()"
   ]
  },
  {
   "cell_type": "code",
   "execution_count": null,
   "id": "6f30abbd",
   "metadata": {},
   "outputs": [],
   "source": [
    "alpha = 12\n",
    "beta = 80\n",
    "rate = 5e-2\n",
    "n = 1e5\n",
    "c_ref = 10\n",
    "\n",
    "rain = 3.5e9\n",
    "dum_capacity = 12 * c_ref * n * beta"
   ]
  },
  {
   "cell_type": "code",
   "execution_count": null,
   "id": "d88769a5",
   "metadata": {},
   "outputs": [],
   "source": [
    "comput_threshold_min_year(dum_capacity=dum_capacity, n=n, rate=rate, c_ref=c_ref, alpha=alpha, beta=beta)"
   ]
  },
  {
   "cell_type": "code",
   "execution_count": null,
   "id": "ab9d1a8f",
   "metadata": {},
   "outputs": [],
   "source": [
    "comput_threshold_max_year(dum_capacity=dum_capacity, rain=rain,  n=n, rate=rate, c_ref=c_ref, alpha=alpha, beta=beta)"
   ]
  },
  {
   "cell_type": "code",
   "execution_count": null,
   "id": "1b71eb6f",
   "metadata": {},
   "outputs": [],
   "source": [
    "def comput_water_volume(n, rate, c_ref, alpha, beta, year, rain, dum_capacity):\n",
    "\n",
    "    return np.min([dum_capacity + year * rain - alpha * beta * n* c_ref * (((1 + rate) ** year - 1)/ rate), dum_capacity])"
   ]
  },
  {
   "cell_type": "code",
   "execution_count": null,
   "id": "37e1d6a0",
   "metadata": {},
   "outputs": [],
   "source": [
    "comput_water_volume(n=n, rate=rate, c_ref=c_ref, alpha=alpha, beta=beta, year=47, rain=rain, dum_capacity=dum_capacity)"
   ]
  }
 ],
 "metadata": {
  "kernelspec": {
   "display_name": "Python 3 (ipykernel)",
   "language": "python",
   "name": "python3"
  },
  "language_info": {
   "codemirror_mode": {
    "name": "ipython",
    "version": 3
   },
   "file_extension": ".py",
   "mimetype": "text/x-python",
   "name": "python",
   "nbconvert_exporter": "python",
   "pygments_lexer": "ipython3",
   "version": "3.8.17"
  }
 },
 "nbformat": 4,
 "nbformat_minor": 5
}
