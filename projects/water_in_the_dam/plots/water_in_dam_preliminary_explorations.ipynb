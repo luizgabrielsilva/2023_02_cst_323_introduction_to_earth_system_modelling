{
 "cells": [
  {
   "attachments": {},
   "cell_type": "markdown",
   "id": "7696f126",
   "metadata": {},
   "source": [
    "# Water in the Dam - Exploração preliminiar\n"
   ]
  },
  {
   "cell_type": "code",
   "execution_count": 1,
   "id": "bd4ce231",
   "metadata": {},
   "outputs": [],
   "source": [
    "import numpy as np\n",
    "from matplotlib import pyplot as plt\n",
    "import pandas as pd\n",
    "\n",
    "import pathlib"
   ]
  },
  {
   "attachments": {},
   "cell_type": "markdown",
   "id": "bf5d10de",
   "metadata": {},
   "source": [
    "## Funções"
   ]
  },
  {
   "cell_type": "code",
   "execution_count": null,
   "id": "eee58176",
   "metadata": {},
   "outputs": [],
   "source": [
    "# Computação do consumo anual por habitante\n",
    "\n",
    "def c_year(c_0, alpha, year):\n",
    "    return c_0 * np.power((1 + alpha), (year - 1950))\n",
    "\n",
    "\n",
    "# Computação das cotas inferiores (Eq. 7) e superiores (Eq. 9)\n",
    "\n",
    "def comput_threshold_inf_year(dum_capacity, n, rate, c_ref, alpha, beta):\n",
    "\n",
    "    return np.log(dum_capacity * rate / (alpha * beta * n * c_ref) + 1) / np.log(1 + rate) + 1950\n",
    "\n",
    "\n",
    "def comput_threshold_sup_year(dum_capacity, rain, n, rate, c_ref, alpha, beta):\n",
    "\n",
    "    return np.log((dum_capacity + rain) / (alpha * beta * n * c_ref)) / np.log(1 + rate) + 1950"
   ]
  }
 ],
 "metadata": {
  "kernelspec": {
   "display_name": "Python 3 (ipykernel)",
   "language": "python",
   "name": "python3"
  },
  "language_info": {
   "codemirror_mode": {
    "name": "ipython",
    "version": 3
   },
   "file_extension": ".py",
   "mimetype": "text/x-python",
   "name": "python",
   "nbconvert_exporter": "python",
   "pygments_lexer": "ipython3",
   "version": "3.8.17"
  }
 },
 "nbformat": 4,
 "nbformat_minor": 5
}
